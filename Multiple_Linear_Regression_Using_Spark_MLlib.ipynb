{
  "nbformat": 4,
  "nbformat_minor": 0,
  "metadata": {
    "colab": {
      "name": "Multiple Linear Regression Using Spark MLlib.ipynb",
      "provenance": [],
      "authorship_tag": "ABX9TyPJ7Dj/KIeZRlH+LnqE356S",
      "include_colab_link": true
    },
    "kernelspec": {
      "name": "python3",
      "display_name": "Python 3"
    },
    "accelerator": "GPU"
  },
  "cells": [
    {
      "cell_type": "markdown",
      "metadata": {
        "id": "view-in-github",
        "colab_type": "text"
      },
      "source": [
        "<a href=\"https://colab.research.google.com/github/Degananda264/PySpark-MLlib/blob/master/Multiple_Linear_Regression_Using_Spark_MLlib.ipynb\" target=\"_parent\"><img src=\"https://colab.research.google.com/assets/colab-badge.svg\" alt=\"Open In Colab\"/></a>"
      ]
    },
    {
      "cell_type": "code",
      "metadata": {
        "id": "1akPkIXEDzXx",
        "colab_type": "code",
        "colab": {}
      },
      "source": [
        "!apt-get install openjdk-8-jdk-headless -qq > /dev/null\n",
        "!wget -q https://downloads.apache.org/spark/spark-2.4.5/spark-2.4.5-bin-hadoop2.7.tgz\n",
        "!tar -xf spark-2.4.5-bin-hadoop2.7.tgz\n",
        "!pip install -q findspark\n",
        "import os\n",
        "os.environ[\"JAVA_HOME\"] = \"/usr/lib/jvm/java-8-openjdk-amd64\"\n",
        "os.environ[\"SPARK_HOME\"] = \"/content/spark-2.4.5-bin-hadoop2.7\"\n",
        "import findspark\n",
        "findspark.init()"
      ],
      "execution_count": 3,
      "outputs": []
    },
    {
      "cell_type": "code",
      "metadata": {
        "id": "tLKG-jz2qLnh",
        "colab_type": "code",
        "colab": {
          "base_uri": "https://localhost:8080/",
          "height": 275
        },
        "outputId": "d805cd6e-3c56-4598-a0fc-ca0beb0dc58d"
      },
      "source": [
        "!pip install -U Pyarrow"
      ],
      "execution_count": 7,
      "outputs": [
        {
          "output_type": "stream",
          "text": [
            "Collecting Pyarrow\n",
            "\u001b[?25l  Downloading https://files.pythonhosted.org/packages/ba/3f/6cac1714fff444664603f92cb9fbe91c7ae25375880158b9e9691c4584c8/pyarrow-0.17.1-cp36-cp36m-manylinux2014_x86_64.whl (63.8MB)\n",
            "\u001b[K     |████████████████████████████████| 63.8MB 47kB/s \n",
            "\u001b[?25hRequirement already satisfied, skipping upgrade: numpy>=1.14 in /usr/local/lib/python3.6/dist-packages (from Pyarrow) (1.18.5)\n",
            "Installing collected packages: Pyarrow\n",
            "  Found existing installation: pyarrow 0.14.1\n",
            "    Uninstalling pyarrow-0.14.1:\n",
            "      Successfully uninstalled pyarrow-0.14.1\n",
            "Successfully installed Pyarrow-0.17.1\n"
          ],
          "name": "stdout"
        },
        {
          "output_type": "display_data",
          "data": {
            "application/vnd.colab-display-data+json": {
              "pip_warning": {
                "packages": [
                  "pyarrow"
                ]
              }
            }
          },
          "metadata": {
            "tags": []
          }
        }
      ]
    },
    {
      "cell_type": "code",
      "metadata": {
        "id": "m8RSsRLSD8Nq",
        "colab_type": "code",
        "colab": {}
      },
      "source": [
        "from pyspark.sql import SparkSession\n",
        "spark = SparkSession.builder.master(\"local[*]\").getOrCreate()"
      ],
      "execution_count": 27,
      "outputs": []
    },
    {
      "cell_type": "code",
      "metadata": {
        "id": "hubtRc3CEAlu",
        "colab_type": "code",
        "colab": {}
      },
      "source": [
        "#Loading the Student_Grades_Data.csv file, uploaded in previous step\n",
        "data=spark.read.csv(\"/content/Restaurant_Profit_Data.csv\",header=True,inferSchema=True)"
      ],
      "execution_count": 28,
      "outputs": []
    },
    {
      "cell_type": "code",
      "metadata": {
        "id": "KW1MVTT-EX0z",
        "colab_type": "code",
        "colab": {
          "base_uri": "https://localhost:8080/",
          "height": 459
        },
        "outputId": "fe9a05d4-e4f6-4ae0-c4a6-15066dd54de8"
      },
      "source": [
        "data.show()"
      ],
      "execution_count": 29,
      "outputs": [
        {
          "output_type": "stream",
          "text": [
            "+----------------------+---------------------+-----------+-------+---------+\n",
            "|Miscellaneous_Expenses|Food_Innovation_Spend|Advertising|   City|   Profit|\n",
            "+----------------------+---------------------+-----------+-------+---------+\n",
            "|              138671.8|             167497.2|   475918.1|Chicago|202443.83|\n",
            "|             153151.59|             164745.7|  448032.53| Mumbai|201974.06|\n",
            "|             102919.55|            155589.51|  412068.54|  Tokyo|201232.39|\n",
            "|             120445.85|            146520.41|  387333.62|Chicago|193083.99|\n",
            "|              93165.77|            144255.34|  370302.42|  Tokyo|176369.94|\n",
            "|             101588.71|             134024.9|  366995.36|Chicago|167173.12|\n",
            "|             148972.87|            136763.46|  131850.82| Mumbai|166304.51|\n",
            "|             147304.06|            132446.13|  328010.68|  Tokyo| 165934.6|\n",
            "|             150492.95|            122690.52|  315747.29|Chicago|162393.77|\n",
            "|             110453.17|            125482.88|  309115.62| Mumbai|159941.96|\n",
            "|             112368.11|            104061.08|  233294.95|  Tokyo|156303.95|\n",
            "|              93564.61|            102819.96|  253878.55| Mumbai| 154441.4|\n",
            "|             129094.38|             96011.75|  253973.44|  Tokyo|151767.52|\n",
            "|             137269.07|             94140.39|  256798.93| Mumbai|144489.35|\n",
            "|             158321.42|            122091.24|  260646.92|  Tokyo|142784.65|\n",
            "|             124390.84|            116671.61|  265910.23|Chicago|140099.04|\n",
            "|             123371.55|             80161.11|  268480.06| Mumbai|137174.93|\n",
            "|             146851.58|             96805.16|  286708.31|Chicago|135552.37|\n",
            "|             115949.79|             93897.16|  299053.57|  Tokyo| 134448.9|\n",
            "|             155288.11|              88567.7|     4134.0|Chicago|132958.86|\n",
            "+----------------------+---------------------+-----------+-------+---------+\n",
            "only showing top 20 rows\n",
            "\n"
          ],
          "name": "stdout"
        }
      ]
    },
    {
      "cell_type": "code",
      "metadata": {
        "id": "oAWMQJ_3Eepx",
        "colab_type": "code",
        "colab": {
          "base_uri": "https://localhost:8080/",
          "height": 136
        },
        "outputId": "0c3a9bfc-f4d1-4071-8f51-aebc317a0fab"
      },
      "source": [
        "data.printSchema()"
      ],
      "execution_count": 30,
      "outputs": [
        {
          "output_type": "stream",
          "text": [
            "root\n",
            " |-- Miscellaneous_Expenses: double (nullable = true)\n",
            " |-- Food_Innovation_Spend: double (nullable = true)\n",
            " |-- Advertising: double (nullable = true)\n",
            " |-- City: string (nullable = true)\n",
            " |-- Profit: double (nullable = true)\n",
            "\n"
          ],
          "name": "stdout"
        }
      ]
    },
    {
      "cell_type": "code",
      "metadata": {
        "id": "TPx3itSAEosd",
        "colab_type": "code",
        "colab": {
          "base_uri": "https://localhost:8080/",
          "height": 102
        },
        "outputId": "5af9aa36-0d7e-4d09-a42d-d6105e2d5118"
      },
      "source": [
        "data.dtypes"
      ],
      "execution_count": 31,
      "outputs": [
        {
          "output_type": "execute_result",
          "data": {
            "text/plain": [
              "[('Miscellaneous_Expenses', 'double'),\n",
              " ('Food_Innovation_Spend', 'double'),\n",
              " ('Advertising', 'double'),\n",
              " ('City', 'string'),\n",
              " ('Profit', 'double')]"
            ]
          },
          "metadata": {
            "tags": []
          },
          "execution_count": 31
        }
      ]
    },
    {
      "cell_type": "code",
      "metadata": {
        "id": "A8MJ-S_eqnJs",
        "colab_type": "code",
        "colab": {
          "base_uri": "https://localhost:8080/",
          "height": 34
        },
        "outputId": "912b73c8-0a0e-45df-82b3-c2dbfdb10276"
      },
      "source": [
        "data.count()"
      ],
      "execution_count": 32,
      "outputs": [
        {
          "output_type": "execute_result",
          "data": {
            "text/plain": [
              "50"
            ]
          },
          "metadata": {
            "tags": []
          },
          "execution_count": 32
        }
      ]
    },
    {
      "cell_type": "code",
      "metadata": {
        "id": "ZIGsPu3lFEQI",
        "colab_type": "code",
        "colab": {
          "base_uri": "https://localhost:8080/",
          "height": 51
        },
        "outputId": "9ba68d04-add4-4b03-8b02-f747083e1d40"
      },
      "source": [
        "#Create features storing categorical & numerical variables, omitting the last column\n",
        "categorical_cols = [item[0] for item in data.dtypes if item[1].startswith('string')]\n",
        "print(categorical_cols)\n",
        "\n",
        "numerical_cols = [item[0] for item in data.dtypes if item[1].startswith('int') | item[1].startswith('double')][:-1]\n",
        "print(numerical_cols)"
      ],
      "execution_count": 33,
      "outputs": [
        {
          "output_type": "stream",
          "text": [
            "['City']\n",
            "['Miscellaneous_Expenses', 'Food_Innovation_Spend', 'Advertising']\n"
          ],
          "name": "stdout"
        }
      ]
    },
    {
      "cell_type": "code",
      "metadata": {
        "id": "XiN8EBofFKQ8",
        "colab_type": "code",
        "colab": {
          "base_uri": "https://localhost:8080/",
          "height": 51
        },
        "outputId": "b8b4b926-0c73-43c2-a216-0b77daf45d2d"
      },
      "source": [
        "#Print number of categorical as well as numerical features.\n",
        "print(str(len(categorical_cols)) + '  categorical features')\n",
        "print(str(len(numerical_cols)) + '  numerical features')"
      ],
      "execution_count": 34,
      "outputs": [
        {
          "output_type": "stream",
          "text": [
            "1  categorical features\n",
            "3  numerical features\n"
          ],
          "name": "stdout"
        }
      ]
    },
    {
      "cell_type": "code",
      "metadata": {
        "id": "iJ8BiP8RFNtU",
        "colab_type": "code",
        "colab": {}
      },
      "source": [
        "# First using StringIndexer to convert string/text values into numerical values followed by OneHotEncoderEstimator \n",
        "# Spark MLLibto convert each Stringindexed or transformed values into One Hot Encoded values.\n",
        "# VectorAssembler is being used to assemble all the features into one vector from multiple columns that contain type double \n",
        "# Also appending every step of the process in a stages array\n",
        "from pyspark.ml.feature import StringIndexer, OneHotEncoderEstimator, VectorAssembler\n",
        "stages = []\n",
        "for categoricalCol in categorical_cols:\n",
        "    stringIndexer = StringIndexer(inputCol = categoricalCol, outputCol = categoricalCol + 'Index')\n",
        "    OHencoder = OneHotEncoderEstimator(inputCols=[stringIndexer.getOutputCol()], outputCols=[categoricalCol + \"_catVec\"])\n",
        "stages += [stringIndexer, OHencoder]\n",
        "assemblerInputs = [c + \"_catVec\" for c in categorical_cols] + numerical_cols\n",
        "Vectassembler = VectorAssembler(inputCols=assemblerInputs, outputCol=\"features\")\n",
        "stages += [Vectassembler]"
      ],
      "execution_count": 35,
      "outputs": []
    },
    {
      "cell_type": "code",
      "metadata": {
        "id": "bHFV8mMFqwhq",
        "colab_type": "code",
        "colab": {
          "base_uri": "https://localhost:8080/",
          "height": 68
        },
        "outputId": "4e7d79c4-d3bd-4c3d-ac42-3acbbaa237a5"
      },
      "source": [
        "stages"
      ],
      "execution_count": 36,
      "outputs": [
        {
          "output_type": "execute_result",
          "data": {
            "text/plain": [
              "[StringIndexer_a020386017d8,\n",
              " OneHotEncoderEstimator_2491829eb11a,\n",
              " VectorAssembler_4928c033d0f3]"
            ]
          },
          "metadata": {
            "tags": []
          },
          "execution_count": 36
        }
      ]
    },
    {
      "cell_type": "code",
      "metadata": {
        "id": "5il3lEaEFTY3",
        "colab_type": "code",
        "colab": {}
      },
      "source": [
        "# Using a Spark MLLib pipeline to apply all the stages of transformation\n",
        "import pandas as pd\n",
        "from pyspark.ml import Pipeline\n",
        "cols = data.columns\n",
        "pipeline = Pipeline(stages = stages)\n"
      ],
      "execution_count": 37,
      "outputs": []
    },
    {
      "cell_type": "code",
      "metadata": {
        "id": "4Cj38PskrB2h",
        "colab_type": "code",
        "colab": {}
      },
      "source": [
        "pipelineModel = pipeline.fit(data)\n",
        "data = pipelineModel.transform(data)\n"
      ],
      "execution_count": 38,
      "outputs": []
    },
    {
      "cell_type": "code",
      "metadata": {
        "id": "ATrMaZjcr4Qk",
        "colab_type": "code",
        "colab": {
          "base_uri": "https://localhost:8080/",
          "height": 459
        },
        "outputId": "e7e81d1c-b20b-4004-b3a8-ff022dfe22dc"
      },
      "source": [
        "data.show()"
      ],
      "execution_count": 39,
      "outputs": [
        {
          "output_type": "stream",
          "text": [
            "+----------------------+---------------------+-----------+-------+---------+---------+-------------+--------------------+\n",
            "|Miscellaneous_Expenses|Food_Innovation_Spend|Advertising|   City|   Profit|CityIndex|  City_catVec|            features|\n",
            "+----------------------+---------------------+-----------+-------+---------+---------+-------------+--------------------+\n",
            "|              138671.8|             167497.2|   475918.1|Chicago|202443.83|      0.0|(2,[0],[1.0])|[1.0,0.0,138671.8...|\n",
            "|             153151.59|             164745.7|  448032.53| Mumbai|201974.06|      1.0|(2,[1],[1.0])|[0.0,1.0,153151.5...|\n",
            "|             102919.55|            155589.51|  412068.54|  Tokyo|201232.39|      2.0|    (2,[],[])|[0.0,0.0,102919.5...|\n",
            "|             120445.85|            146520.41|  387333.62|Chicago|193083.99|      0.0|(2,[0],[1.0])|[1.0,0.0,120445.8...|\n",
            "|              93165.77|            144255.34|  370302.42|  Tokyo|176369.94|      2.0|    (2,[],[])|[0.0,0.0,93165.77...|\n",
            "|             101588.71|             134024.9|  366995.36|Chicago|167173.12|      0.0|(2,[0],[1.0])|[1.0,0.0,101588.7...|\n",
            "|             148972.87|            136763.46|  131850.82| Mumbai|166304.51|      1.0|(2,[1],[1.0])|[0.0,1.0,148972.8...|\n",
            "|             147304.06|            132446.13|  328010.68|  Tokyo| 165934.6|      2.0|    (2,[],[])|[0.0,0.0,147304.0...|\n",
            "|             150492.95|            122690.52|  315747.29|Chicago|162393.77|      0.0|(2,[0],[1.0])|[1.0,0.0,150492.9...|\n",
            "|             110453.17|            125482.88|  309115.62| Mumbai|159941.96|      1.0|(2,[1],[1.0])|[0.0,1.0,110453.1...|\n",
            "|             112368.11|            104061.08|  233294.95|  Tokyo|156303.95|      2.0|    (2,[],[])|[0.0,0.0,112368.1...|\n",
            "|              93564.61|            102819.96|  253878.55| Mumbai| 154441.4|      1.0|(2,[1],[1.0])|[0.0,1.0,93564.61...|\n",
            "|             129094.38|             96011.75|  253973.44|  Tokyo|151767.52|      2.0|    (2,[],[])|[0.0,0.0,129094.3...|\n",
            "|             137269.07|             94140.39|  256798.93| Mumbai|144489.35|      1.0|(2,[1],[1.0])|[0.0,1.0,137269.0...|\n",
            "|             158321.42|            122091.24|  260646.92|  Tokyo|142784.65|      2.0|    (2,[],[])|[0.0,0.0,158321.4...|\n",
            "|             124390.84|            116671.61|  265910.23|Chicago|140099.04|      0.0|(2,[0],[1.0])|[1.0,0.0,124390.8...|\n",
            "|             123371.55|             80161.11|  268480.06| Mumbai|137174.93|      1.0|(2,[1],[1.0])|[0.0,1.0,123371.5...|\n",
            "|             146851.58|             96805.16|  286708.31|Chicago|135552.37|      0.0|(2,[0],[1.0])|[1.0,0.0,146851.5...|\n",
            "|             115949.79|             93897.16|  299053.57|  Tokyo| 134448.9|      2.0|    (2,[],[])|[0.0,0.0,115949.7...|\n",
            "|             155288.11|              88567.7|     4134.0|Chicago|132958.86|      0.0|(2,[0],[1.0])|[1.0,0.0,155288.1...|\n",
            "+----------------------+---------------------+-----------+-------+---------+---------+-------------+--------------------+\n",
            "only showing top 20 rows\n",
            "\n"
          ],
          "name": "stdout"
        }
      ]
    },
    {
      "cell_type": "code",
      "metadata": {
        "id": "e2iapvd4rXyn",
        "colab_type": "code",
        "colab": {
          "base_uri": "https://localhost:8080/",
          "height": 204
        },
        "outputId": "784ac3d7-e210-404a-8b48-8647e4e2b52a"
      },
      "source": [
        "selectedCols = ['features']+cols\n",
        "data = data.select(selectedCols)\n",
        "pd.DataFrame(data.take(5), columns=data.columns)"
      ],
      "execution_count": 40,
      "outputs": [
        {
          "output_type": "execute_result",
          "data": {
            "text/html": [
              "<div>\n",
              "<style scoped>\n",
              "    .dataframe tbody tr th:only-of-type {\n",
              "        vertical-align: middle;\n",
              "    }\n",
              "\n",
              "    .dataframe tbody tr th {\n",
              "        vertical-align: top;\n",
              "    }\n",
              "\n",
              "    .dataframe thead th {\n",
              "        text-align: right;\n",
              "    }\n",
              "</style>\n",
              "<table border=\"1\" class=\"dataframe\">\n",
              "  <thead>\n",
              "    <tr style=\"text-align: right;\">\n",
              "      <th></th>\n",
              "      <th>features</th>\n",
              "      <th>Miscellaneous_Expenses</th>\n",
              "      <th>Food_Innovation_Spend</th>\n",
              "      <th>Advertising</th>\n",
              "      <th>City</th>\n",
              "      <th>Profit</th>\n",
              "    </tr>\n",
              "  </thead>\n",
              "  <tbody>\n",
              "    <tr>\n",
              "      <th>0</th>\n",
              "      <td>[1.0, 0.0, 138671.8, 167497.2, 475918.1]</td>\n",
              "      <td>138671.80</td>\n",
              "      <td>167497.20</td>\n",
              "      <td>475918.10</td>\n",
              "      <td>Chicago</td>\n",
              "      <td>202443.83</td>\n",
              "    </tr>\n",
              "    <tr>\n",
              "      <th>1</th>\n",
              "      <td>[0.0, 1.0, 153151.59, 164745.7, 448032.53]</td>\n",
              "      <td>153151.59</td>\n",
              "      <td>164745.70</td>\n",
              "      <td>448032.53</td>\n",
              "      <td>Mumbai</td>\n",
              "      <td>201974.06</td>\n",
              "    </tr>\n",
              "    <tr>\n",
              "      <th>2</th>\n",
              "      <td>[0.0, 0.0, 102919.55, 155589.51, 412068.54]</td>\n",
              "      <td>102919.55</td>\n",
              "      <td>155589.51</td>\n",
              "      <td>412068.54</td>\n",
              "      <td>Tokyo</td>\n",
              "      <td>201232.39</td>\n",
              "    </tr>\n",
              "    <tr>\n",
              "      <th>3</th>\n",
              "      <td>[1.0, 0.0, 120445.85, 146520.41, 387333.62]</td>\n",
              "      <td>120445.85</td>\n",
              "      <td>146520.41</td>\n",
              "      <td>387333.62</td>\n",
              "      <td>Chicago</td>\n",
              "      <td>193083.99</td>\n",
              "    </tr>\n",
              "    <tr>\n",
              "      <th>4</th>\n",
              "      <td>[0.0, 0.0, 93165.77, 144255.34, 370302.42]</td>\n",
              "      <td>93165.77</td>\n",
              "      <td>144255.34</td>\n",
              "      <td>370302.42</td>\n",
              "      <td>Tokyo</td>\n",
              "      <td>176369.94</td>\n",
              "    </tr>\n",
              "  </tbody>\n",
              "</table>\n",
              "</div>"
            ],
            "text/plain": [
              "                                      features  ...     Profit\n",
              "0     [1.0, 0.0, 138671.8, 167497.2, 475918.1]  ...  202443.83\n",
              "1   [0.0, 1.0, 153151.59, 164745.7, 448032.53]  ...  201974.06\n",
              "2  [0.0, 0.0, 102919.55, 155589.51, 412068.54]  ...  201232.39\n",
              "3  [1.0, 0.0, 120445.85, 146520.41, 387333.62]  ...  193083.99\n",
              "4   [0.0, 0.0, 93165.77, 144255.34, 370302.42]  ...  176369.94\n",
              "\n",
              "[5 rows x 6 columns]"
            ]
          },
          "metadata": {
            "tags": []
          },
          "execution_count": 40
        }
      ]
    },
    {
      "cell_type": "code",
      "metadata": {
        "id": "grDrjV4grzM9",
        "colab_type": "code",
        "colab": {
          "base_uri": "https://localhost:8080/",
          "height": 459
        },
        "outputId": "96f202cb-0339-4558-de77-50011ba80c9a"
      },
      "source": [
        "#Display the data having additional column named features. Since it's a multiple linear regression problem, hence all the\n",
        "# independent variable values are shown as one vector\n",
        "data.show()"
      ],
      "execution_count": 41,
      "outputs": [
        {
          "output_type": "stream",
          "text": [
            "+--------------------+----------------------+---------------------+-----------+-------+---------+\n",
            "|            features|Miscellaneous_Expenses|Food_Innovation_Spend|Advertising|   City|   Profit|\n",
            "+--------------------+----------------------+---------------------+-----------+-------+---------+\n",
            "|[1.0,0.0,138671.8...|              138671.8|             167497.2|   475918.1|Chicago|202443.83|\n",
            "|[0.0,1.0,153151.5...|             153151.59|             164745.7|  448032.53| Mumbai|201974.06|\n",
            "|[0.0,0.0,102919.5...|             102919.55|            155589.51|  412068.54|  Tokyo|201232.39|\n",
            "|[1.0,0.0,120445.8...|             120445.85|            146520.41|  387333.62|Chicago|193083.99|\n",
            "|[0.0,0.0,93165.77...|              93165.77|            144255.34|  370302.42|  Tokyo|176369.94|\n",
            "|[1.0,0.0,101588.7...|             101588.71|             134024.9|  366995.36|Chicago|167173.12|\n",
            "|[0.0,1.0,148972.8...|             148972.87|            136763.46|  131850.82| Mumbai|166304.51|\n",
            "|[0.0,0.0,147304.0...|             147304.06|            132446.13|  328010.68|  Tokyo| 165934.6|\n",
            "|[1.0,0.0,150492.9...|             150492.95|            122690.52|  315747.29|Chicago|162393.77|\n",
            "|[0.0,1.0,110453.1...|             110453.17|            125482.88|  309115.62| Mumbai|159941.96|\n",
            "|[0.0,0.0,112368.1...|             112368.11|            104061.08|  233294.95|  Tokyo|156303.95|\n",
            "|[0.0,1.0,93564.61...|              93564.61|            102819.96|  253878.55| Mumbai| 154441.4|\n",
            "|[0.0,0.0,129094.3...|             129094.38|             96011.75|  253973.44|  Tokyo|151767.52|\n",
            "|[0.0,1.0,137269.0...|             137269.07|             94140.39|  256798.93| Mumbai|144489.35|\n",
            "|[0.0,0.0,158321.4...|             158321.42|            122091.24|  260646.92|  Tokyo|142784.65|\n",
            "|[1.0,0.0,124390.8...|             124390.84|            116671.61|  265910.23|Chicago|140099.04|\n",
            "|[0.0,1.0,123371.5...|             123371.55|             80161.11|  268480.06| Mumbai|137174.93|\n",
            "|[1.0,0.0,146851.5...|             146851.58|             96805.16|  286708.31|Chicago|135552.37|\n",
            "|[0.0,0.0,115949.7...|             115949.79|             93897.16|  299053.57|  Tokyo| 134448.9|\n",
            "|[1.0,0.0,155288.1...|             155288.11|              88567.7|     4134.0|Chicago|132958.86|\n",
            "+--------------------+----------------------+---------------------+-----------+-------+---------+\n",
            "only showing top 20 rows\n",
            "\n"
          ],
          "name": "stdout"
        }
      ]
    },
    {
      "cell_type": "code",
      "metadata": {
        "id": "RITIJXjJsOQx",
        "colab_type": "code",
        "colab": {
          "base_uri": "https://localhost:8080/",
          "height": 459
        },
        "outputId": "72803973-6b18-4842-88be-69777aba001c"
      },
      "source": [
        "#Select only Features and Label from previous dataset as we need these two entities for building machine learning model\n",
        "finalized_data = data.select(\"features\",\"Profit\")\n",
        "finalized_data.show()"
      ],
      "execution_count": 42,
      "outputs": [
        {
          "output_type": "stream",
          "text": [
            "+--------------------+---------+\n",
            "|            features|   Profit|\n",
            "+--------------------+---------+\n",
            "|[1.0,0.0,138671.8...|202443.83|\n",
            "|[0.0,1.0,153151.5...|201974.06|\n",
            "|[0.0,0.0,102919.5...|201232.39|\n",
            "|[1.0,0.0,120445.8...|193083.99|\n",
            "|[0.0,0.0,93165.77...|176369.94|\n",
            "|[1.0,0.0,101588.7...|167173.12|\n",
            "|[0.0,1.0,148972.8...|166304.51|\n",
            "|[0.0,0.0,147304.0...| 165934.6|\n",
            "|[1.0,0.0,150492.9...|162393.77|\n",
            "|[0.0,1.0,110453.1...|159941.96|\n",
            "|[0.0,0.0,112368.1...|156303.95|\n",
            "|[0.0,1.0,93564.61...| 154441.4|\n",
            "|[0.0,0.0,129094.3...|151767.52|\n",
            "|[0.0,1.0,137269.0...|144489.35|\n",
            "|[0.0,0.0,158321.4...|142784.65|\n",
            "|[1.0,0.0,124390.8...|140099.04|\n",
            "|[0.0,1.0,123371.5...|137174.93|\n",
            "|[1.0,0.0,146851.5...|135552.37|\n",
            "|[0.0,0.0,115949.7...| 134448.9|\n",
            "|[1.0,0.0,155288.1...|132958.86|\n",
            "+--------------------+---------+\n",
            "only showing top 20 rows\n",
            "\n"
          ],
          "name": "stdout"
        }
      ]
    },
    {
      "cell_type": "code",
      "metadata": {
        "id": "-Wj5yl8Osccq",
        "colab_type": "code",
        "colab": {}
      },
      "source": [
        "#Split the data into training and test model with 70% obs. going in training and 30% in testing\n",
        "train_dataset, test_dataset = finalized_data.randomSplit([0.7, 0.3])"
      ],
      "execution_count": 43,
      "outputs": []
    },
    {
      "cell_type": "code",
      "metadata": {
        "id": "hNjuSD3dsfna",
        "colab_type": "code",
        "colab": {}
      },
      "source": [
        "from pyspark.ml.regression import LinearRegression\n",
        "MLR=LinearRegression(featuresCol=\"features\",labelCol=\"Profit\")\n",
        "model=MLR.fit(train_dataset)\n"
      ],
      "execution_count": 45,
      "outputs": []
    },
    {
      "cell_type": "code",
      "metadata": {
        "id": "AAP4aW1AsqHl",
        "colab_type": "code",
        "colab": {}
      },
      "source": [
        "pred=model.evaluate(test_dataset)"
      ],
      "execution_count": 46,
      "outputs": []
    },
    {
      "cell_type": "code",
      "metadata": {
        "id": "DOzAdde1s57c",
        "colab_type": "code",
        "colab": {
          "base_uri": "https://localhost:8080/",
          "height": 340
        },
        "outputId": "ef06f121-8f53-444b-b1a3-8eb78714403d"
      },
      "source": [
        "pred.predictions.show()"
      ],
      "execution_count": 49,
      "outputs": [
        {
          "output_type": "stream",
          "text": [
            "+--------------------+---------+------------------+\n",
            "|            features|   Profit|        prediction|\n",
            "+--------------------+---------+------------------+\n",
            "|[0.0,0.0,93165.77...|176369.94|187007.50100312495|\n",
            "|[0.0,0.0,104831.4...|106960.92|110319.58950505976|\n",
            "|[0.0,0.0,145909.9...|115915.54|121079.67620068719|\n",
            "|[0.0,1.0,137200.9...| 52741.73|53636.934451891415|\n",
            "|[0.0,1.0,137269.0...|144489.35|135631.79908098152|\n",
            "|[0.0,1.0,159467.9...| 106894.8|  94387.3282542174|\n",
            "|[1.0,0.0,53517.15...| 45855.41| 62990.20007470026|\n",
            "|[1.0,0.0,86821.44...|106661.51|101700.57333746238|\n",
            "|[1.0,0.0,101055.3...|118734.04|124903.27935098141|\n",
            "|[1.0,0.0,125927.0...| 75108.08|55955.139885912555|\n",
            "|[1.0,0.0,150492.9...|162393.77| 159614.2913736243|\n",
            "|[1.0,0.0,154475.9...|107665.56|105049.68514783765|\n",
            "|[1.0,0.0,155288.1...|132958.86|124362.65737819161|\n",
            "|[1.0,0.0,155547.4...|121495.02|123588.54835146462|\n",
            "+--------------------+---------+------------------+\n",
            "\n"
          ],
          "name": "stdout"
        }
      ]
    },
    {
      "cell_type": "code",
      "metadata": {
        "id": "H5CZh18zs7OL",
        "colab_type": "code",
        "colab": {
          "base_uri": "https://localhost:8080/",
          "height": 34
        },
        "outputId": "c3b33af3-769b-40ea-957f-05a53cc6bc9d"
      },
      "source": [
        "#Find out coefficient value\n",
        "coefficient = model.coefficients\n",
        "print (\"The coefficients of the model are : %a\" %coefficient)"
      ],
      "execution_count": 50,
      "outputs": [
        {
          "output_type": "stream",
          "text": [
            "The coefficients of the model are : DenseVector([-2360.2724, -2642.7569, -0.103, 0.8367, 0.0199])\n"
          ],
          "name": "stdout"
        }
      ]
    },
    {
      "cell_type": "code",
      "metadata": {
        "id": "OwZrPFYNtJJA",
        "colab_type": "code",
        "colab": {
          "base_uri": "https://localhost:8080/",
          "height": 34
        },
        "outputId": "18317879-af3d-4656-d182-4dc1c57293b6"
      },
      "source": [
        "#Find out intercept Value\n",
        "intercept = model.intercept\n",
        "print (\"The Intercept of the model is : %f\" %intercept)"
      ],
      "execution_count": 51,
      "outputs": [
        {
          "output_type": "stream",
          "text": [
            "The Intercept of the model is : 68528.279165\n"
          ],
          "name": "stdout"
        }
      ]
    },
    {
      "cell_type": "code",
      "metadata": {
        "id": "lAl1_3HUtW2X",
        "colab_type": "code",
        "colab": {
          "base_uri": "https://localhost:8080/",
          "height": 34
        },
        "outputId": "344b7711-af95-49d4-9450-8530cac97b4a"
      },
      "source": [
        "#Evaluate the model using metric like Mean Absolute Error(MAE), Root Mean Square Error(RMSE) and R-Square\n",
        "from pyspark.ml.evaluation import RegressionEvaluator\n",
        "evaluation = RegressionEvaluator(labelCol=\"Profit\", predictionCol=\"prediction\")\n",
        "\n",
        "# r2 - coefficient of determination\n",
        "r2 = evaluation.evaluate(pred.predictions, {evaluation.metricName: \"r2\"})\n",
        "print(\"r2: %.3f\" %r2)"
      ],
      "execution_count": 52,
      "outputs": [
        {
          "output_type": "stream",
          "text": [
            "r2: 0.932\n"
          ],
          "name": "stdout"
        }
      ]
    },
    {
      "cell_type": "code",
      "metadata": {
        "id": "41lLvrJVtZGw",
        "colab_type": "code",
        "colab": {}
      },
      "source": [
        "#Create Unlabeled dataset  to contain only feature column\n",
        "unlabeled_dataset = test_dataset.select('features')"
      ],
      "execution_count": 53,
      "outputs": []
    },
    {
      "cell_type": "code",
      "metadata": {
        "id": "g0zYhpVStc-o",
        "colab_type": "code",
        "colab": {
          "base_uri": "https://localhost:8080/",
          "height": 340
        },
        "outputId": "a31786e5-20b8-438a-a3b4-64d7722aa865"
      },
      "source": [
        "unlabeled_dataset.show()"
      ],
      "execution_count": 54,
      "outputs": [
        {
          "output_type": "stream",
          "text": [
            "+--------------------+\n",
            "|            features|\n",
            "+--------------------+\n",
            "|[0.0,0.0,93165.77...|\n",
            "|[0.0,0.0,104831.4...|\n",
            "|[0.0,0.0,145909.9...|\n",
            "|[0.0,1.0,137200.9...|\n",
            "|[0.0,1.0,137269.0...|\n",
            "|[0.0,1.0,159467.9...|\n",
            "|[1.0,0.0,53517.15...|\n",
            "|[1.0,0.0,86821.44...|\n",
            "|[1.0,0.0,101055.3...|\n",
            "|[1.0,0.0,125927.0...|\n",
            "|[1.0,0.0,150492.9...|\n",
            "|[1.0,0.0,154475.9...|\n",
            "|[1.0,0.0,155288.1...|\n",
            "|[1.0,0.0,155547.4...|\n",
            "+--------------------+\n",
            "\n"
          ],
          "name": "stdout"
        }
      ]
    },
    {
      "cell_type": "code",
      "metadata": {
        "id": "8uqhmiTbtf4J",
        "colab_type": "code",
        "colab": {}
      },
      "source": [
        "#Predict the model output for fresh & unseen test data using transform() method\n",
        "new_predictions = model.transform(unlabeled_dataset)"
      ],
      "execution_count": 55,
      "outputs": []
    },
    {
      "cell_type": "code",
      "metadata": {
        "id": "nKAuwYQNtkEK",
        "colab_type": "code",
        "colab": {
          "base_uri": "https://localhost:8080/",
          "height": 340
        },
        "outputId": "b8182422-99ca-4612-eca8-3f3a8810ce92"
      },
      "source": [
        "new_predictions.show()"
      ],
      "execution_count": 58,
      "outputs": [
        {
          "output_type": "stream",
          "text": [
            "+--------------------+------------------+\n",
            "|            features|        prediction|\n",
            "+--------------------+------------------+\n",
            "|[0.0,0.0,93165.77...|187007.50100312495|\n",
            "|[0.0,0.0,104831.4...|110319.58950505976|\n",
            "|[0.0,0.0,145909.9...|121079.67620068719|\n",
            "|[0.0,1.0,137200.9...|53636.934451891415|\n",
            "|[0.0,1.0,137269.0...|135631.79908098152|\n",
            "|[0.0,1.0,159467.9...|  94387.3282542174|\n",
            "|[1.0,0.0,53517.15...| 62990.20007470026|\n",
            "|[1.0,0.0,86821.44...|101700.57333746238|\n",
            "|[1.0,0.0,101055.3...|124903.27935098141|\n",
            "|[1.0,0.0,125927.0...|55955.139885912555|\n",
            "|[1.0,0.0,150492.9...| 159614.2913736243|\n",
            "|[1.0,0.0,154475.9...|105049.68514783765|\n",
            "|[1.0,0.0,155288.1...|124362.65737819161|\n",
            "|[1.0,0.0,155547.4...|123588.54835146462|\n",
            "+--------------------+------------------+\n",
            "\n"
          ],
          "name": "stdout"
        }
      ]
    },
    {
      "cell_type": "code",
      "metadata": {
        "id": "bcVeVfpFtmPK",
        "colab_type": "code",
        "colab": {}
      },
      "source": [
        ""
      ],
      "execution_count": null,
      "outputs": []
    }
  ]
}